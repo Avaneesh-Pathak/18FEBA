{
 "cells": [
  {
   "cell_type": "code",
   "execution_count": null,
   "id": "c210febc-f31c-44ca-b49b-7dbe67dcdc88",
   "metadata": {},
   "outputs": [],
   "source": [
    "'''What is an API? Give an example, where an API is used in real life"
   ]
  },
  {
   "cell_type": "code",
   "execution_count": null,
   "id": "c7d1b1ea-ae65-4d10-a2b8-d89c0980c465",
   "metadata": {},
   "outputs": [],
   "source": [
    "An API or Application Programming Interface is a set of functions and procedures that allow systems to integrate, so its functionalities can be reused by other apps or programs\n",
    "\n",
    "The Google Maps API and Twitter API may be among the most widely used API examples"
   ]
  },
  {
   "cell_type": "code",
   "execution_count": null,
   "id": "df49f6a6-c562-431e-9ac0-20e1889df454",
   "metadata": {},
   "outputs": [],
   "source": [
    "'''Give advantages and disadvantages of using API. "
   ]
  },
  {
   "cell_type": "code",
   "execution_count": null,
   "id": "9d30749d-8933-4a90-af08-fec6cc96c43f",
   "metadata": {},
   "outputs": [],
   "source": [
    "Advantaes of API are as follows:-\n",
    "\n",
    "Applications: Access to APIs ensures more flexibility in information-transfer processes.\n",
    "Reach: APIs let you create layers in apps in order to distribute information to different audiences.\n",
    "Customization: Furthermore, it can serve as a solution to create different experiences for users, letting protocols, functions, and commands be adapted according to specific demands.\n",
    "Efficiency: When you have content that is automatically published and made available on different channels simultaneously, APIs allow for more efficient data distribution.\n",
    "Adaptability: One of the greatest benefits of APIs is the ability it has to adapt to changes through data migration and flexibility of services.\n",
    "\n",
    "\n",
    "Disadvantages of API are as follows:-\n",
    "\n",
    "An API is a gateway and can become a hacker's primary target.\n",
    "Once the API is compromised, all other applications and systems become vulnerable."
   ]
  },
  {
   "cell_type": "code",
   "execution_count": null,
   "id": "2f355103-9b80-4724-bd25-cb2c7ba07c10",
   "metadata": {},
   "outputs": [],
   "source": [
    "''' What is a Web API? Differentiate between API and Web API."
   ]
  },
  {
   "cell_type": "code",
   "execution_count": null,
   "id": "a26d7bdb-997c-40de-8dc3-97cea9dd5cc5",
   "metadata": {},
   "outputs": [],
   "source": [
    "Web API as the name suggests, is an API over the web which can be accessed using HTTP protocol.\n",
    "It is a concept and not a technology.\n",
    "We can build Web API using different technologies such as Java, .NET etc\n",
    "\n",
    "Both APIs and web services are technologies that enable the transfer of data between separate software applications.\n",
    "API is an interface that exposes an application's data to outside software, whereas web applications are one type of API with stricter requirements.\n",
    "These requirements include network communication, SOAP as the primary protocol, and less accessibility for the public."
   ]
  },
  {
   "cell_type": "code",
   "execution_count": null,
   "id": "0e031e1d-6d3c-4548-9767-7dcefe7e308e",
   "metadata": {},
   "outputs": [],
   "source": [
    "''' Explain REST and SOAP Architecture. Mention shortcomings of SOAP."
   ]
  },
  {
   "cell_type": "code",
   "execution_count": null,
   "id": "1538f555-f367-4e7d-8b8d-cb94adf1e2e9",
   "metadata": {},
   "outputs": [],
   "source": [
    "SOAP is a protocol which was designed before REST and came into the picture.\n",
    "The main idea behind designing SOAP was to ensure that programs built on different platforms and programming languages could exchange data in an easy manner.\n",
    "SOAP stands for Simple Object Access Protocol.\n",
    "\n",
    "REST was designed specifically for working with components such as media components, files, or even objects on a particular hardware device.\n",
    "Any web service that is defined on the principles of REST can be called a RestFul web service.\n",
    "A Restful service would use the normal HTTP verbs of GET, POST, PUT and DELETE for working with the required components.\n",
    "REST stands for Representational State Transfer.\n",
    "\n"
   ]
  },
  {
   "cell_type": "code",
   "execution_count": null,
   "id": "774ab1dd-01e1-46e1-b6af-a2ec619908e2",
   "metadata": {},
   "outputs": [],
   "source": [
    "'''Differentiate between REST and SOAP."
   ]
  },
  {
   "cell_type": "code",
   "execution_count": null,
   "id": "3d4518f7-b9c3-4f67-99bd-cd49d13e09d7",
   "metadata": {},
   "outputs": [],
   "source": [
    "SOAP stands for Simple Object Access Protocol and REST stands for Representational State Transfer.\n",
    "Since SOAP is a protocol, it follows a strict standard to allow communication between the client and the server whereas REST is an architectural style that doesn’t follow any strict standard but follows six constraints defined by Roy Fielding in 2000. Those constraints are – Uniform Interface, Client-Server, Stateless, Cacheable, Layered System, Code on Demand.\n",
    "SOAP uses only XML for exchanging information in its message format whereas REST is not restricted to XML and its the choice of implementer which Media-Type to use like XML, JSON, Plain-text. Moreover, REST can use SOAP protocol but SOAP cannot use REST.\n",
    "On behalf of services interfaces to business logic, SOAP uses @WebService whereas REST instead of using interfaces uses URI like @Path.\n",
    "SOAP is difficult to implement and it requires more bandwidth whereas REST is easy to implement and requires less bandwidth such as smartphones.\n",
    "Benefits of SOAP over REST as SOAP has ACID compliance transaction. Some of the applications require transaction ability which is accepted by SOAP whereas REST lacks in it.\n",
    "On the basis of Security, SOAP has SSL( Secure Socket Layer) and WS-security whereas REST has SSL and HTTPS. In the case of Bank Account Password, Card Number, etc. SOAP is preferred over REST. The security issue is all about your application requirement, you have to build security on your own. It’s about what type of protocol you use.\n",
    "SOAP cannot make use of REST since SOAP is a protocol without any architectural pattern. REST can make use of SOAP because it is an architectural pattern having protocol."
   ]
  },
  {
   "cell_type": "code",
   "execution_count": null,
   "id": "9e92f615-5b94-440a-a122-c8be0cacd434",
   "metadata": {},
   "outputs": [],
   "source": []
  }
 ],
 "metadata": {
  "kernelspec": {
   "display_name": "Python 3 (ipykernel)",
   "language": "python",
   "name": "python3"
  },
  "language_info": {
   "codemirror_mode": {
    "name": "ipython",
    "version": 3
   },
   "file_extension": ".py",
   "mimetype": "text/x-python",
   "name": "python",
   "nbconvert_exporter": "python",
   "pygments_lexer": "ipython3",
   "version": "3.10.8"
  }
 },
 "nbformat": 4,
 "nbformat_minor": 5
}
